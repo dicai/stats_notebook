{
 "cells": [
  {
   "cell_type": "code",
   "execution_count": 107,
   "metadata": {
    "collapsed": false
   },
   "outputs": [],
   "source": [
    "import scipy\n",
    "import numpy as np\n",
    "import seaborn as sns\n",
    "import pylab\n",
    "%matplotlib inline\n",
    "%config InlineBackend.figure_format = 'retina'"
   ]
  },
  {
   "cell_type": "markdown",
   "metadata": {},
   "source": [
    "# Multiple testing\n",
    "\n",
    "In the typical multiple testing scenario, we have $m$ hypotheses that we want to test.\n",
    "\n",
    "There are two types of error rates we might want to control for:\n",
    "1. The family-wise error rate (FWER)\n",
    "2. The false discovery rate (FDR / pFDR)\n",
    "\n",
    "For the latter, we can look at either FDR (Benjamini-Hochberg):\n",
    "$$FDR = \\mathbb{E}\\left(\\frac{V}{R} \\,|\\, R > 0 \\right) \\Pr(R > 0)$$\n",
    "or the pFDR\n",
    "$$pFDR = \\mathbb{E}\\left(\\frac{V}{R} \\,|\\, R > 0 \\right),$$\n",
    "where the ratio\n",
    "$\\frac{V}{R}$ is defined to be the number of false positives $V$ (rejected null, when the null is true) divided by the total number of rejected nulls $R$.\n",
    "\n",
    "## Testing images\n",
    "For instance, we may have an image with $m$ pixels, and we may have 2 groups that we want to identify which pixels\n",
    "are different between the groups, e.g., to identify unusual brain activity.\n",
    "\n",
    "## Testing difference in gene expression\n",
    "Another example would be if we had tumor cells and normal cells and wanted to test for a difference in the expression of certain genes between the two groups."
   ]
  },
  {
   "cell_type": "markdown",
   "metadata": {},
   "source": [
    "# Example setting\n",
    "\n",
    "Suppose we have $i = 1,\\ldots,n$ individuals and $j = 1,\\ldots, m$ index pixels in an image.\n",
    "\n",
    "Suppose we have 2 treatments: control and patient, or $k=0,1$.\n",
    "Let $D_{ij}$ denote the difference between the measurements in the two treatments:\n",
    "$$D_{ij} := Y_{ij0} - Y_{ij1},$$\n",
    "where $Y_{ijk}$ is the measurement on individual $i$, pixel $j$, and treatment $k$.\n",
    "Thus, $D$ is an $n \\times m$ matrix (individuals by pixels).\n",
    "\n",
    "## Hierarchical model\n",
    "\n",
    "Suppose we had the following model for $D$:\n",
    "$$ D_{ij} | \\beta, \\sigma \\sim N(\\beta_j, \\sigma_j),$$\n",
    "where $\\beta = (\\beta_1,\\ldots,\\beta_m)$ is a vector of treatment effects --- each $\\beta_j$ is the effect at pixel $j$, and $\\sigma = (\\sigma_1,\\ldots,\\sigma_j$ is a vector of standard deviation parameters.\n",
    "\n",
    "The true effects $\\beta_j$ are iid from a mixture model\n",
    "$$\\beta_j \\sim \\pi_0\\delta_0 + (1-\\pi_0) N(0, \\sigma^2_b),$$\n",
    "where $\\delta_0$ is a point mass at 0, and $\\pi_0$ is the mixture weight (between 0 and 1). "
   ]
  },
  {
   "cell_type": "code",
   "execution_count": 209,
   "metadata": {
    "collapsed": false
   },
   "outputs": [],
   "source": [
    "import numpy as np\n",
    "def generate_data(n, m, pi0, sigmab):\n",
    "    # generate beta_j's\n",
    "    beta = np.zeros(m)\n",
    "    for j in range(m):\n",
    "        if np.random.random() < pi0:\n",
    "            beta[j] = 0\n",
    "        else:\n",
    "            beta[j] = np.random.normal(0,sigmab)\n",
    "    \n",
    "    D = np.zeros((n,m))\n",
    "    sigma = np.ones(m)\n",
    "    for i in range(n):\n",
    "        D[i] = np.random.normal(beta, sigma)\n",
    "        \n",
    "    return D, beta   \n",
    "\n",
    "# Generate data from the model\n",
    "D1, beta1 = generate_data(10, 10000, 1, 3) # only generate from 0\n",
    "D2, beta2 = generate_data(10, 10000, 0.5, 3)\n",
    "D3, beta3 = generate_data(10, 10000, 0., 3) # only generate from normal"
   ]
  },
  {
   "cell_type": "markdown",
   "metadata": {},
   "source": [
    "## Hypotheses to test\n",
    "\n",
    "For each pixel $j = 1,\\ldots,m$, we want to test the null hypothesis\n",
    "$$H_j : \\beta_j = 0,$$\n",
    "i.e., there is no treatment effect.\n",
    "\n",
    "We assume $\\sigma_j = 1$ for all $j=1,\\ldots,m$.\n",
    "\n",
    "Here we'll use a 2-sided $z$-test, where the test statistic is computed as:\n",
    "$$T_j = (\\frac{1}{n} \\sum_{i,j} D_{ij} - \\beta_j) / s,$$\n",
    "where $s = \\sqrt{n}$, since we assumed $\\sigma_j =1$."
   ]
  },
  {
   "cell_type": "code",
   "execution_count": 210,
   "metadata": {
    "collapsed": false
   },
   "outputs": [],
   "source": [
    "def compute_p_value(dat, beta):\n",
    "    # using a z-test\n",
    "    n, m = dat.shape\n",
    "    T = dat.mean(0) / np.sqrt(n)\n",
    "    return np.array([ztest(dat[:,j])[1] for j in range(m)])\n",
    "    \n",
    "pvalues1 = compute_p_value(D1, beta1)\n",
    "pvalues2 = compute_p_value(D2, beta2)\n",
    "pvalues3 = compute_p_value(D3, beta3)"
   ]
  },
  {
   "cell_type": "code",
   "execution_count": 211,
   "metadata": {
    "collapsed": false
   },
   "outputs": [
    {
     "data": {
      "image/png": "[encoded data removed]",
      "text/plain": [
       "<matplotlib.figure.Figure at 0x140666590>"
      ]
     },
     "metadata": {
      "image/png": {
       "height": 269,
       "width": 379
      }
     },
     "output_type": "display_data"
    }
   ],
   "source": [
    "pylab.clf()\n",
    "sns.distplot(pvalues1, kde=False)\n",
    "sns.distplot(pvalues2, kde=False)\n",
    "sns.distplot(pvalues3, bins=15, kde=False)\n",
    "pylab.legend([r'$\\pi_0=1$', r'$\\pi_0=0.5$', r'$\\pi_0=0$'], loc='upper right')\n",
    "pylab.title(r\"Distribution of $p$-values\")\n",
    "pylab.yscale('log')"
   ]
  },
  {
   "cell_type": "markdown",
   "metadata": {},
   "source": [
    "We can see from the histogram plots of the $p$-values that when $\\pi_0=1$, we are only generating from mean $0$ (null hypothesis, in blue), the $p$-values are uniformly distributed, and as we increase the mixture weight $\\pi_0$, the $p$-values get more concentrated toward 0, i.e., we want to reject the null hypothesis."
   ]
  },
  {
   "cell_type": "code",
   "execution_count": 452,
   "metadata": {
    "collapsed": false
   },
   "outputs": [],
   "source": [
    "## The Benjamini-Hochberg rule to control FDR at level alpha\n",
    "def FDR_control(pvalues, alpha):\n",
    "    # sort p-values\n",
    "    m = len(pvalues)\n",
    "    reject = np.zeros(m)\n",
    "    inds = pvalues.argsort()\n",
    "    sorted_p = pvalues[inds]\n",
    "    thresh = np.arange(1,m+1) * alpha / m\n",
    "    for i, p in enumerate(sorted_p):\n",
    "        if p <= thresh[i]:\n",
    "            reject[inds[i]] = 1\n",
    "        else:\n",
    "            #print('stopping at index: %d' % i)\n",
    "            return reject\n",
    "        \n",
    "def compute_FDR_full(hypotheses, beta):\n",
    "    V = sum(beta[hypotheses == 1.] == 0.)\n",
    "    R = hypotheses.sum()\n",
    "\n",
    "    if R == 0:\n",
    "        return 0, 0\n",
    "    else:\n",
    "        return float(V)/R, R\n",
    "\n",
    "def simulate_FDR(pi0, num_iter=5):\n",
    "    #alpha = [0.01, 0.05, 1.5, 0.5]\n",
    "    alpha = [0.01, 0.05, 0.1, 0.5]\n",
    "    FDRs = []\n",
    "    pFDRs = []\n",
    "    \n",
    "    for a in alpha:\n",
    "        \n",
    "        VRs = np.arange(num_iter)\n",
    "        Rs = np.arange(num_iter) \n",
    "        # generate several datasets from these parameters and compute FDR averaged over the datasets\n",
    "        for i in range(num_iter):\n",
    "            D, beta = generate_data(10, 10000, pi0, 3)\n",
    "            pvalues = compute_p_value(D, beta)\n",
    "            hypo = FDR_control(pvalues, a)\n",
    "            VR, R = compute_FDR_full(hypo, beta)\n",
    "            VRs[i] = VR; Rs[i] = R\n",
    "        \n",
    "        # compute expected V/R\n",
    "        pFDR = VRs[Rs > 0].mean()\n",
    "        pFDRs.append(pFDR)\n",
    "        FDRs.append(pFDR * float((Rs > 0).sum())/len(Rs))\n",
    "\n",
    "    return pFDRs, FDRs"
   ]
  },
  {
   "cell_type": "code",
   "execution_count": 453,
   "metadata": {
    "collapsed": false
   },
   "outputs": [],
   "source": [
    "pFDRs1, FDRs1 = simulate_FDR(1., num_iter=5)\n",
    "pFDRs2, FDRs2 = simulate_FDR(0.5)\n",
    "pFDRs3, FDRs3 = simulate_FDR(0)"
   ]
  },
  {
   "cell_type": "code",
   "execution_count": 466,
   "metadata": {
    "collapsed": false
   },
   "outputs": [],
   "source": [
    "#pylab.plot(range(len(pFDRs1)), pFDRs1)\n",
    "#pylab.plot(range(len(pFDRs2)), pFDRs2)\n",
    "#pylab.plot(range(len(pFDRs3)), pFDRs3)"
   ]
  },
  {
   "cell_type": "code",
   "execution_count": null,
   "metadata": {
    "collapsed": true
   },
   "outputs": [],
   "source": []
  }
 ],
 "metadata": {
  "kernelspec": {
   "display_name": "Python 2",
   "language": "python",
   "name": "python2"
  },
  "language_info": {
   "codemirror_mode": {
    "name": "ipython",
    "version": 2
   },
   "file_extension": ".py",
   "mimetype": "text/x-python",
   "name": "python",
   "nbconvert_exporter": "python",
   "pygments_lexer": "ipython2",
   "version": "2.7.11"
  }
 },
 "nbformat": 4,
 "nbformat_minor": 0
}
