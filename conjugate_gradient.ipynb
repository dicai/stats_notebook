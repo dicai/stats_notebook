{
 "cells": [
  {
   "cell_type": "markdown",
   "metadata": {},
   "source": [
    "# Linear conjugate gradient"
   ]
  },
  {
   "cell_type": "code",
   "execution_count": 1,
   "metadata": {},
   "outputs": [],
   "source": [
    "using Random\n",
    "using LinearAlgebra\n",
    "using PyPlot\n",
    "using Seaborn\n",
    "#PyPlot.svg(true)"
   ]
  },
  {
   "cell_type": "markdown",
   "metadata": {},
   "source": [
    "In this noteboook we implement and investigate the linear conjugate gradient algorithm on a few toy examples."
   ]
  },
  {
   "cell_type": "code",
   "execution_count": 2,
   "metadata": {},
   "outputs": [
    {
     "data": {
      "text/plain": [
       "iterate_CG (generic function with 1 method)"
      ]
     },
     "execution_count": 2,
     "metadata": {},
     "output_type": "execute_result"
    }
   ],
   "source": [
    "function iterate_CG(xk, rk, pk, A)\n",
    "    \"\"\"\n",
    "    Basic iteration of the conjugate gradient algorithm\n",
    "    Parameters:\n",
    "    xk: current iterate\n",
    "    rk: current residual\n",
    "    pk: current direction\n",
    "    A: matrix of interest\n",
    "    \"\"\"\n",
    "    \n",
    "    # form products\n",
    "    rkk = rk' * rk\n",
    "    Apk = A * pk \n",
    "    \n",
    "    # construct step size\n",
    "    αk = rkk / (pk' * Apk)\n",
    "\n",
    "    # take a step in current conjugate direction\n",
    "    xk_new = xk + αk * pk\n",
    "\n",
    "    # construct new residual\n",
    "    rk_new = rk + αk * Apk\n",
    "\n",
    "    # construct new linear combination\n",
    "    betak_new = (rk_new' * rk_new) / rkk\n",
    "\n",
    "    # generate new conjugate vector\n",
    "    pk_new = -rk_new + betak_new * pk\n",
    "\n",
    "    return xk_new, rk_new, pk_new\n",
    "\n",
    "end"
   ]
  },
  {
   "cell_type": "code",
   "execution_count": 3,
   "metadata": {},
   "outputs": [
    {
     "data": {
      "text/plain": [
       "run_conjugate_gradient (generic function with 1 method)"
      ]
     },
     "execution_count": 3,
     "metadata": {},
     "output_type": "execute_result"
    }
   ],
   "source": [
    "function run_conjugate_gradient(x0, A, b; max_iter = 2000)\n",
    "    \"\"\"\n",
    "    Conjugate gradient algorithm\n",
    "\n",
    "    Parameters:\n",
    "    x0: initial point\n",
    "    A: matrix of interest\n",
    "    b: vector in linear system (Ax = b)\n",
    "    max_iter: max number of iterations to run CG\n",
    "    \"\"\"\n",
    "\n",
    "    # initial iteration\n",
    "    xk = x0\n",
    "    rk = A * xk - b\n",
    "    pk = -rk\n",
    "    \n",
    "    err = sum(abs.(rk))\n",
    "    errors = [err]\n",
    "    D = pk\n",
    "\n",
    "    #while sum(abs.(rk)) > 10e-6\n",
    "    for i in 1:max_iter\n",
    "        xk, rk, pk = iterate_CG(xk, rk, pk, A)\n",
    "        \n",
    "        D = hcat(D,pk)\n",
    "        \n",
    "        err = sum(abs.(rk))\n",
    "        push!(errors, err)\n",
    "        \n",
    "        # print iteration\n",
    "        i % 500 == 0 && println(\"Iteration $i: error: $err\")\n",
    "\n",
    "        # break if we reach desired error \n",
    "        if err < 10e-6\n",
    "            println(\"Terminated in $i iterations\")\n",
    "            break\n",
    "        end\n",
    "    end\n",
    "    \n",
    "    return xk, errors, D\n",
    "end"
   ]
  },
  {
   "cell_type": "markdown",
   "metadata": {},
   "source": [
    "## Simple diagonal example\n",
    "\n",
    "Here we look at a diagonal matrix with 3 eigenvalues that are around 10, thus with about 3 \"effective\" eigenvalues. We see that the error drops sharply at 4 iterations, and then again in the 5th iteration. The algorithm terminates in 5 iterations."
   ]
  },
  {
   "cell_type": "code",
   "execution_count": 4,
   "metadata": {},
   "outputs": [
    {
     "data": {
      "text/plain": [
       "5-element Array{Float64,1}:\n",
       " 0.7684476751965699\n",
       " 0.940515000715187 \n",
       " 0.6739586945680673\n",
       " 0.3954531123351086\n",
       " 0.3132439558075186"
      ]
     },
     "execution_count": 4,
     "metadata": {},
     "output_type": "execute_result"
    }
   ],
   "source": [
    "Random.seed!(123)\n",
    "b = rand(5)"
   ]
  },
  {
   "cell_type": "code",
   "execution_count": 5,
   "metadata": {},
   "outputs": [
    {
     "data": {
      "text/plain": [
       "1"
      ]
     },
     "execution_count": 5,
     "metadata": {},
     "output_type": "execute_result"
    }
   ],
   "source": [
    "A = zeros(5,5)\n",
    "A[1,1]=10; A[2,2]=10.1; A[3,3]=10.2; A[4,4]=2; A[5,5] = 1"
   ]
  },
  {
   "cell_type": "code",
   "execution_count": 6,
   "metadata": {
    "scrolled": true
   },
   "outputs": [
    {
     "data": {
      "text/plain": [
       "5-element Array{Float64,1}:\n",
       " 0.07684476751965699\n",
       " 0.09312029710051357\n",
       " 0.06607438182039876\n",
       " 0.1977265561675543 \n",
       " 0.3132439558075186 "
      ]
     },
     "execution_count": 6,
     "metadata": {},
     "output_type": "execute_result"
    }
   ],
   "source": [
    "x = A \\ b"
   ]
  },
  {
   "cell_type": "code",
   "execution_count": 7,
   "metadata": {},
   "outputs": [
    {
     "name": "stdout",
     "output_type": "stream",
     "text": [
      "Terminated in 5 iterations\n"
     ]
    },
    {
     "data": {
      "text/plain": [
       "5-element Array{Float64,1}:\n",
       " 0.076844767519657  \n",
       " 0.09312029710051356\n",
       " 0.06607438182039876\n",
       " 0.19772655616755433\n",
       " 0.3132439558075186 "
      ]
     },
     "execution_count": 7,
     "metadata": {},
     "output_type": "execute_result"
    }
   ],
   "source": [
    "x0 = [0.3,0.1,0.1,0.1,0.1]\n",
    "xsol, errors, D = run_conjugate_gradient(x0, A, b);\n",
    "xsol"
   ]
  },
  {
   "cell_type": "code",
   "execution_count": 8,
   "metadata": {},
   "outputs": [
    {
     "data": {
      "image/png": "[encoded data removed]",
      "text/plain": [
       "Figure(PyObject <Figure size 640x480 with 1 Axes>)"
      ]
     },
     "metadata": {},
     "output_type": "display_data"
    },
    {
     "data": {
      "text/plain": [
       "PyObject Text(24,0.5,'total absolute error')"
      ]
     },
     "execution_count": 8,
     "metadata": {},
     "output_type": "execute_result"
    }
   ],
   "source": [
    "Seaborn.semilogy(0:length(errors)-1, errors)\n",
    "xlabel(\"iteration\"); ylabel(\"total absolute error\")"
   ]
  },
  {
   "cell_type": "markdown",
   "metadata": {},
   "source": [
    "### Quick check for conjugacy\n",
    "\n",
    "We'll quickly check a few of the directions to see that they are indeed conjugate."
   ]
  },
  {
   "cell_type": "code",
   "execution_count": 9,
   "metadata": {},
   "outputs": [
    {
     "ename": "AssertionError",
     "evalue": "AssertionError: (D[:, 1])' * A * D[:, 1] < 1.0e-5",
     "output_type": "error",
     "traceback": [
      "AssertionError: (D[:, 1])' * A * D[:, 1] < 1.0e-5",
      "",
      "Stacktrace:",
      " [1] top-level scope at In[9]:7"
     ]
    }
   ],
   "source": [
    "# confirm these are 0\n",
    "@assert D[:,1]' * A * D[:,2] < 10e-6\n",
    "@assert D[:,1]' * A * D[:,3] < 10e-6\n",
    "@assert D[:,1]' * A * D[:,4] < 10e-6\n",
    "\n",
    "# confirm these aren't 0\n",
    "@assert D[:,1]' * A * D[:,1] < 10e-6"
   ]
  },
  {
   "cell_type": "markdown",
   "metadata": {},
   "source": [
    "## Random matrix example\n",
    "\n",
    "Here we generate a random s.p.d. matrix. Here we see a sharp decrease in error at 5 iterations and otherwise slight decreases in error at the earlier iterations."
   ]
  },
  {
   "cell_type": "code",
   "execution_count": 10,
   "metadata": {},
   "outputs": [],
   "source": [
    "# Construct a random symmetric positive definite matrix\n",
    "Random.seed!(111)\n",
    "A = rand(5,5); A = 0.5*(A+A'); A = A + 5*I;"
   ]
  },
  {
   "cell_type": "code",
   "execution_count": 11,
   "metadata": {},
   "outputs": [
    {
     "data": {
      "text/plain": [
       "5-element Array{Float64,1}:\n",
       " 4.46066817714894  \n",
       " 4.979395596044116 \n",
       " 5.2165679905921785\n",
       " 5.56276039133931  \n",
       " 7.909981699390226 "
      ]
     },
     "execution_count": 11,
     "metadata": {},
     "output_type": "execute_result"
    }
   ],
   "source": [
    "eigvals(A) "
   ]
  },
  {
   "cell_type": "code",
   "execution_count": 12,
   "metadata": {},
   "outputs": [
    {
     "data": {
      "text/plain": [
       "5-element Array{Float64,1}:\n",
       " 0.11716900362730469\n",
       " 0.1405752373046519 \n",
       " 0.08834694285802892\n",
       " 0.03420963755766211\n",
       " 0.0129462608414192 "
      ]
     },
     "execution_count": 12,
     "metadata": {},
     "output_type": "execute_result"
    }
   ],
   "source": [
    "x2 = A \\ b"
   ]
  },
  {
   "cell_type": "code",
   "execution_count": 13,
   "metadata": {},
   "outputs": [
    {
     "name": "stdout",
     "output_type": "stream",
     "text": [
      "Terminated in 5 iterations\n"
     ]
    },
    {
     "data": {
      "text/plain": [
       "5-element Array{Float64,1}:\n",
       " 0.1171690036273047  \n",
       " 0.14057523730465188 \n",
       " 0.08834694285802895 \n",
       " 0.03420963755766211 \n",
       " 0.012946260841419187"
      ]
     },
     "execution_count": 13,
     "metadata": {},
     "output_type": "execute_result"
    }
   ],
   "source": [
    "x0 = [0.,0.,0.,0.,0.]\n",
    "xsol, errors, D = run_conjugate_gradient(x0, A, b);\n",
    "xsol"
   ]
  },
  {
   "cell_type": "code",
   "execution_count": 14,
   "metadata": {},
   "outputs": [
    {
     "data": {
      "image/png": "[encoded data removed]",
      "text/plain": [
       "Figure(PyObject <Figure size 640x480 with 1 Axes>)"
      ]
     },
     "metadata": {},
     "output_type": "display_data"
    },
    {
     "data": {
      "text/plain": [
       "PyObject Text(24,0.5,'total absolute error')"
      ]
     },
     "execution_count": 14,
     "metadata": {},
     "output_type": "execute_result"
    }
   ],
   "source": [
    "Seaborn.semilogy(0:length(errors)-1, errors)\n",
    "xlabel(\"iteration\"); ylabel(\"total absolute error\")"
   ]
  },
  {
   "cell_type": "markdown",
   "metadata": {},
   "source": [
    "## Larger example\n",
    "\n",
    "We'll look at a larger example now, again generating a random s.p.d. matrix. Here the matrix ndim = 1000. We examine the following matrices:\n",
    "1. Larger diagonal\n",
    "2. Smaller diagonal\n",
    "\n",
    "We print the condition number of each matrix, and we can see that the second problem is much more ill-conditioned, which essentially results in more numerical errors (and thus, more iterations). \n",
    "\n",
    "Running the code with increased dimension will generally require more iterations."
   ]
  },
  {
   "cell_type": "markdown",
   "metadata": {},
   "source": [
    "### Larger diagonal"
   ]
  },
  {
   "cell_type": "code",
   "execution_count": 15,
   "metadata": {},
   "outputs": [
    {
     "name": "stdout",
     "output_type": "stream",
     "text": [
      "The condition number is: 14.832223763483976\n"
     ]
    }
   ],
   "source": [
    "N = 1000\n",
    "Random.seed!(123)\n",
    "b = rand(N)\n",
    "A = rand(N,N); A = 0.5*(A+A'); A = A + 50*I;\n",
    "println(\"The condition number is: \", cond(A))"
   ]
  },
  {
   "cell_type": "code",
   "execution_count": 16,
   "metadata": {},
   "outputs": [
    {
     "data": {
      "image/png": "[encoded data removed]",
      "text/plain": [
       "Figure(PyObject <Figure size 640x480 with 1 Axes>)"
      ]
     },
     "metadata": {},
     "output_type": "display_data"
    },
    {
     "data": {
      "text/plain": [
       "(0, 100)"
      ]
     },
     "execution_count": 16,
     "metadata": {},
     "output_type": "execute_result"
    }
   ],
   "source": [
    "# distribution of the eigenvalues\n",
    "plt[:hist](eigvals(A), bins=500); xlim(0,100)"
   ]
  },
  {
   "cell_type": "code",
   "execution_count": 17,
   "metadata": {},
   "outputs": [
    {
     "name": "stdout",
     "output_type": "stream",
     "text": [
      "Terminated in 11 iterations\n"
     ]
    }
   ],
   "source": [
    "x0 = zeros(N)\n",
    "xsol, errors, D = run_conjugate_gradient(x0, A, b);\n",
    "xsol;"
   ]
  },
  {
   "cell_type": "code",
   "execution_count": 18,
   "metadata": {},
   "outputs": [
    {
     "data": {
      "image/png": "[encoded data removed]",
      "text/plain": [
       "Figure(PyObject <Figure size 640x480 with 1 Axes>)"
      ]
     },
     "metadata": {},
     "output_type": "display_data"
    },
    {
     "data": {
      "text/plain": [
       "PyObject Text(24,0.5,'total absolute error')"
      ]
     },
     "execution_count": 18,
     "metadata": {},
     "output_type": "execute_result"
    }
   ],
   "source": [
    "Seaborn.semilogy(0:length(errors)-1, errors)\n",
    "xlabel(\"iteration\"); ylabel(\"total absolute error\")"
   ]
  },
  {
   "cell_type": "markdown",
   "metadata": {},
   "source": [
    "### Examine conjugacy property"
   ]
  },
  {
   "cell_type": "code",
   "execution_count": 19,
   "metadata": {},
   "outputs": [
    {
     "data": {
      "text/plain": [
       "-3.703348738781642e-11"
      ]
     },
     "execution_count": 19,
     "metadata": {},
     "output_type": "execute_result"
    }
   ],
   "source": [
    "D[:,1]' * A * D[:,2]"
   ]
  },
  {
   "cell_type": "code",
   "execution_count": 20,
   "metadata": {},
   "outputs": [
    {
     "data": {
      "text/plain": [
       "-0.003039049255638625"
      ]
     },
     "execution_count": 20,
     "metadata": {},
     "output_type": "execute_result"
    }
   ],
   "source": [
    "D[:,1]' * A * D[:,10]"
   ]
  },
  {
   "cell_type": "code",
   "execution_count": 21,
   "metadata": {},
   "outputs": [
    {
     "ename": "BoundsError",
     "evalue": "BoundsError: attempt to access 1000×12 Array{Float64,2} at index [Base.Slice(Base.OneTo(1000)), 33]",
     "output_type": "error",
     "traceback": [
      "BoundsError: attempt to access 1000×12 Array{Float64,2} at index [Base.Slice(Base.OneTo(1000)), 33]",
      "",
      "Stacktrace:",
      " [1] throw_boundserror(::Array{Float64,2}, ::Tuple{Base.Slice{Base.OneTo{Int64}},Int64}) at ./abstractarray.jl:484",
      " [2] checkbounds at ./abstractarray.jl:449 [inlined]",
      " [3] _getindex at ./multidimensional.jl:588 [inlined]",
      " [4] getindex(::Array{Float64,2}, ::Function, ::Int64) at ./abstractarray.jl:905",
      " [5] top-level scope at In[21]:1"
     ]
    }
   ],
   "source": [
    "D[:,1]' * A * D[:,33]"
   ]
  },
  {
   "cell_type": "markdown",
   "metadata": {},
   "source": [
    "### Smaller diagonal"
   ]
  },
  {
   "cell_type": "code",
   "execution_count": 22,
   "metadata": {
    "scrolled": true
   },
   "outputs": [
    {
     "data": {
      "image/png": "[encoded data removed]",
      "text/plain": [
       "Figure(PyObject <Figure size 640x480 with 1 Axes>)"
      ]
     },
     "metadata": {},
     "output_type": "display_data"
    },
    {
     "name": "stdout",
     "output_type": "stream",
     "text": [
      "The condition number is: 2054.8953570922145\n"
     ]
    },
    {
     "data": {
      "text/plain": [
       "(0, 100)"
      ]
     },
     "execution_count": 22,
     "metadata": {},
     "output_type": "execute_result"
    }
   ],
   "source": [
    "Random.seed!(123)\n",
    "\n",
    "# Generate random s.p.d. matrix\n",
    "A = rand(N,N); A = 0.5*(A+A'); A = A + 13*I;\n",
    "println(\"The condition number is: \", cond(A))\n",
    "\n",
    "# distribution of the eigenvalues\n",
    "plt[:hist](eigvals(A), bins=500); xlim(0,100)"
   ]
  },
  {
   "cell_type": "code",
   "execution_count": 23,
   "metadata": {},
   "outputs": [
    {
     "data": {
      "image/png": "[encoded data removed]",
      "text/plain": [
       "Figure(PyObject <Figure size 640x480 with 1 Axes>)"
      ]
     },
     "metadata": {},
     "output_type": "display_data"
    },
    {
     "name": "stdout",
     "output_type": "stream",
     "text": [
      "Terminated in 80 iterations\n"
     ]
    },
    {
     "data": {
      "text/plain": [
       "PyObject Text(24,0.5,'total absolute error')"
      ]
     },
     "execution_count": 23,
     "metadata": {},
     "output_type": "execute_result"
    }
   ],
   "source": [
    "x0 = zeros(N)\n",
    "xsol, errors, D = run_conjugate_gradient(x0, A, b; max_iter=5000);\n",
    "\n",
    "Seaborn.semilogy(0:length(errors)-1, errors)\n",
    "xlabel(\"iteration\"); ylabel(\"total absolute error\")"
   ]
  },
  {
   "cell_type": "markdown",
   "metadata": {},
   "source": [
    "### Examine the conjugacy property"
   ]
  },
  {
   "cell_type": "code",
   "execution_count": 24,
   "metadata": {},
   "outputs": [
    {
     "data": {
      "text/plain": [
       "2.3504753698944114e-11"
      ]
     },
     "execution_count": 24,
     "metadata": {},
     "output_type": "execute_result"
    }
   ],
   "source": [
    "D[:,1]' * A * D[:,2]"
   ]
  },
  {
   "cell_type": "code",
   "execution_count": 25,
   "metadata": {},
   "outputs": [
    {
     "data": {
      "text/plain": [
       "-0.008916006321349812"
      ]
     },
     "execution_count": 25,
     "metadata": {},
     "output_type": "execute_result"
    }
   ],
   "source": [
    "D[:,1]' * A * D[:,7]"
   ]
  },
  {
   "cell_type": "code",
   "execution_count": 26,
   "metadata": {},
   "outputs": [
    {
     "data": {
      "text/plain": [
       "0.029404348791532815"
      ]
     },
     "execution_count": 26,
     "metadata": {},
     "output_type": "execute_result"
    }
   ],
   "source": [
    "D[:,1]' * A * D[:,75]"
   ]
  },
  {
   "cell_type": "code",
   "execution_count": null,
   "metadata": {},
   "outputs": [],
   "source": []
  }
 ],
 "metadata": {
  "kernelspec": {
   "display_name": "Julia 1.0.0",
   "language": "julia",
   "name": "julia-1.0"
  },
  "language_info": {
   "file_extension": ".jl",
   "mimetype": "application/julia",
   "name": "julia",
   "version": "1.0.0"
  }
 },
 "nbformat": 4,
 "nbformat_minor": 2
}
